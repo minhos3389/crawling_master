{
 "cells": [
  {
   "cell_type": "markdown",
   "id": "27448f93",
   "metadata": {},
   "source": [
    "## urlopen\n",
    "웹에서 수신된 데이터를 `urlopen` 함수는 가지고 있다가 다른 함수에서 이를 사용할 수 있도록 해줍니다."
   ]
  },
  {
   "cell_type": "markdown",
   "id": "a04e0a44",
   "metadata": {},
   "source": [
    "### urllib.request 예외처리\n",
    "- 기존 소스 코드 변경\n",
    "- 예외 처리 추가\n",
    "- 기타 리팩토링"
   ]
  },
  {
   "cell_type": "code",
   "execution_count": 5,
   "id": "815f390f",
   "metadata": {},
   "outputs": [],
   "source": [
    "import urllib.request as req\n",
    "# url 에러 및 주소가 잘못되었을 경우 나오는 HTTP 개체를 가지고 오기 위해 HTTPError를 호출합니다.\n",
    "from urllib.error import URLError, HTTPError"
   ]
  },
  {
   "cell_type": "code",
   "execution_count": 6,
   "id": "8657ae42",
   "metadata": {},
   "outputs": [],
   "source": [
    "# 다운로드 경로 및 파일명\n",
    "path_list = ['./urllib이미지다운로드실습폴더/lion.jpg', './urllib이미지다운로드실습폴더/google.html']"
   ]
  },
  {
   "cell_type": "code",
   "execution_count": 7,
   "id": "089f61e3",
   "metadata": {},
   "outputs": [],
   "source": [
    "# 다운로드 리소스\n",
    "target_url = [\n",
    "    'https://search.pstatic.net/common/?src=http%3A%2F%2Fblogfiles.naver.net%2FMjAyMTA1MjhfNjEg%2FMDAxNjIyMTYzNzY1MzAx.bmg7iaL97O76MvH82tjtG3yF6NAZng19E40T-5ArzHAg.zD-jM1LJKjaglgXAKoe1pAEDIFFslLMu0veIKHdHnn4g.PNG.aritamstore%2F2.PNG&type=sc960_832',\\\n",
    "    'https://www.google.co.kr/'\n",
    "]"
   ]
  },
  {
   "cell_type": "code",
   "execution_count": 9,
   "id": "1f161620",
   "metadata": {},
   "outputs": [
    {
     "name": "stdout",
     "output_type": "stream",
     "text": [
      "==================================================\n",
      "Header Info-0:accept-ranges: bytes\n",
      "cache-control: max-age=2592000\n",
      "content-length: 76414\n",
      "content-type: image/jpeg\n",
      "expires: Fri, 30 Jul 2021 23:18:57 GMT\n",
      "last-modified: Wed, 30 Jun 2021 23:18:57 GMT\n",
      "p3p: CP=\"ALL CURa ADMa DEVa TAIa OUR BUS IND PHY ONL UNI PUR FIN COM NAV INT DEM CNT STA POL HEA PRE LOC OTC\"\n",
      "date: Wed, 30 Jun 2021 23:18:57 GMT\n",
      "age: 926826\n",
      "server: Testa/5.1.1\n",
      "strict-transport-security: max-age=31536000\n",
      "connection: close\n",
      "\n",
      "\n",
      "HTTP Status Code: 200\n",
      "\n",
      "==================================================\n",
      "\n",
      "Download Succeed\n",
      "==================================================\n",
      "Header Info-1:Date: Sun, 11 Jul 2021 16:46:02 GMT\n",
      "Expires: -1\n",
      "Cache-Control: private, max-age=0\n",
      "Content-Type: text/html; charset=EUC-KR\n",
      "P3P: CP=\"This is not a P3P policy! See g.co/p3phelp for more info.\"\n",
      "Server: gws\n",
      "X-XSS-Protection: 0\n",
      "X-Frame-Options: SAMEORIGIN\n",
      "Set-Cookie: 1P_JAR=2021-07-11-16; expires=Tue, 10-Aug-2021 16:46:02 GMT; path=/; domain=.google.co.kr; Secure\n",
      "Set-Cookie: NID=218=jXheNhwZbCLhlQmDmkOhL5Wx79r1DZySozSylXJ-V_CwiyPKfsuxc9VSHFzjsdyoJMWjzHOnaPdcvboufAJltfR6HUt5r7N0NjOzDU1Xe0QwML6KR7RLh-12nJynOCKe3xdtF0KBRiAIK2ov3XkWQvmupzZgjvsmPjwet9EarKk; expires=Mon, 10-Jan-2022 16:46:02 GMT; path=/; domain=.google.co.kr; HttpOnly\n",
      "Alt-Svc: h3=\":443\"; ma=2592000,h3-29=\":443\"; ma=2592000,h3-T051=\":443\"; ma=2592000,h3-Q050=\":443\"; ma=2592000,h3-Q046=\":443\"; ma=2592000,h3-Q043=\":443\"; ma=2592000,quic=\":443\"; ma=2592000; v=\"46,43\"\n",
      "Accept-Ranges: none\n",
      "Vary: Accept-Encoding\n",
      "Connection: close\n",
      "Transfer-Encoding: chunked\n",
      "\n",
      "\n",
      "HTTP Status Code: 200\n",
      "\n",
      "==================================================\n",
      "\n",
      "Download Succeed\n"
     ]
    }
   ],
   "source": [
    "for i, url in enumerate(target_url):\n",
    "    # 예외처리\n",
    "    try:\n",
    "        # 웹 수신 정보 읽기\n",
    "        response = req.urlopen(url)\n",
    "        \n",
    "        # 수신 내용\n",
    "        contents = response.read()\n",
    "        \n",
    "        print(\"=\"*50)\n",
    "        # 상태정보출력\n",
    "        # response.info()\n",
    "        print(\"Header Info-{}:{}\".format(i, response.info()))\n",
    "        # response.getcode() : http상태출력 200,404,403 등\n",
    "        print(\"HTTP Status Code: {}\".format(response.getcode()))\n",
    "        print()\n",
    "        print(\"=\"*50)\n",
    "        \n",
    "        # 파일 쓰기\n",
    "        # with 문은 쓰고 나서 알아서 닫히기 때문에 따로 close 해줄 필요가 없어 주로 사용됩니다.\n",
    "        with open(path_list[i], 'wb') as c:\n",
    "            #  읽어온 수신내용을 c로 쓰기\n",
    "            #  바이너리 파일을 읽기 위해서는 파일모드를 rb 로, 쓰기 위해서는 wb 로 지정합니다.\n",
    "            c.write(contents)\n",
    "        \n",
    "    # 서버가 죽어있거나, 403 권한이 없거나 하는 경우 나오는 에러\n",
    "    except HTTPError as e:\n",
    "        print(\"Download failed\")\n",
    "        print(\"HTTPError code :\", e.code)\n",
    "    except URLError as e:\n",
    "        print(\"Download failed\")\n",
    "        print(\"URLError code :\", e.reason)\n",
    "    # 성공 \n",
    "    else:\n",
    "        print()\n",
    "        print(\"Download Succeed\")\n",
    "        "
   ]
  }
 ],
 "metadata": {
  "kernelspec": {
   "display_name": "Python 3",
   "language": "python",
   "name": "python3"
  },
  "language_info": {
   "codemirror_mode": {
    "name": "ipython",
    "version": 3
   },
   "file_extension": ".py",
   "mimetype": "text/x-python",
   "name": "python",
   "nbconvert_exporter": "python",
   "pygments_lexer": "ipython3",
   "version": "3.8.8"
  }
 },
 "nbformat": 4,
 "nbformat_minor": 5
}
