{
 "cells": [
  {
   "cell_type": "markdown",
   "id": "772def23",
   "metadata": {},
   "source": [
    "## urllib 사용법 및 기본 스크랩핑"
   ]
  },
  {
   "cell_type": "code",
   "execution_count": 1,
   "id": "fa8be4d4",
   "metadata": {},
   "outputs": [],
   "source": [
    "import urllib.request as req"
   ]
  },
  {
   "cell_type": "code",
   "execution_count": 2,
   "id": "fd078717",
   "metadata": {},
   "outputs": [],
   "source": [
    "# 파일 URL 을 통해서 다운로드 받기\n",
    "\n",
    "# (주)딥빌드 이미지 url (이미지 클릭 후 이미지 주소 복사 수행)\n",
    "img_url = 'https://pds.saramin.co.kr/company/logo/202105/04/qskl0a_dnem-1ojo56q_logo.png'\n",
    "# 사람인에 등재된 (주) 딥빌드 기업정보 html url\n",
    "# 사이트에서 우측 버튼 클릭 후 페이지 소스보기를 통해 html 코드를 살펴볼 수 있습니다.\n",
    "html_url = 'https://www.saramin.co.kr/zf_user/company-info/view/csn/bkdKWm1WS2tkTW1jd3NmS3ZjbmNNQT09/company_nm/%EB%94%A5%EB%B9%8C%EB%93%9C(%EC%A3%BC)'"
   ]
  },
  {
   "cell_type": "code",
   "execution_count": 3,
   "id": "c151f9d7",
   "metadata": {},
   "outputs": [],
   "source": [
    "# 파일을 다운로드 받을 경로 + 파일명 + 확장자\n",
    "save_path1 = \"./urllib이미지다운로드실습폴더/deepbuild_logo.png\"\n",
    "save_path2 = \"./urllib이미지다운로드실습폴더/deepbuild_company_info.html\""
   ]
  },
  {
   "cell_type": "markdown",
   "id": "1d8c8d0a",
   "metadata": {},
   "source": [
    "개발자도구 + F5 누른 후, `Headers`를 살펴보면 status: 200 , 사용하는 기기 등 정보를 살펴볼 수 있습니다."
   ]
  },
  {
   "cell_type": "code",
   "execution_count": 4,
   "id": "59707bdd",
   "metadata": {},
   "outputs": [
    {
     "name": "stdout",
     "output_type": "stream",
     "text": [
      "Date: Sun, 11 Jul 2021 16:30:22 GMT\n",
      "Content-Type: image/png\n",
      "Content-Length: 30722\n",
      "Connection: close\n",
      "Last-Modified: Tue, 04 May 2021 06:36:10 GMT\n",
      "ETag: \"6090eb5a-7802\"\n",
      "Server: SWS\n",
      "Expires: Sun, 18 Jul 2021 16:30:22 GMT\n",
      "Cache-Control: max-age=604800\n",
      "Cache-Control: public\n",
      "X-Proxy-Cache: HIT\n",
      "Accept-Ranges: bytes\n",
      "\n",
      "\n",
      "date: Sun, 11 Jul 2021 16:30:23 GMT\n",
      "content-type: text/html; charset=UTF-8\n",
      "transfer-encoding: chunked\n",
      "set-cookie: PHPSESSID=o26muf8db0cekupdiva71l1ht4; path=/; samesite=None; domain=.saramin.co.kr; secure; HttpOnly\n",
      "expires: Thu, 19 Nov 1981 08:52:00 GMT\n",
      "cache-control: no-store, no-cache, must-revalidate\n",
      "pragma: no-cache\n",
      "set-cookie: PCID=16260210231023789917083; expires=Thu, 31-Dec-2099 15:00:00 GMT; Max-Age=2476391377; path=/; domain=saramin.co.kr\n",
      "server: SWS\n",
      "x-dyn-cc: BYPASS\n",
      "set-cookie: RSRVID=web19|YOsco|YOsco; path=/\n",
      "connection: close\n",
      "\n",
      "\n",
      "Filename1 ./urllib이미지다운로드실습폴더/deepbuild_logo.png\n",
      "Filename2 ./urllib이미지다운로드실습폴더/deepbuild_company_info.html\n"
     ]
    }
   ],
   "source": [
    "# 예외처리\n",
    "try:\n",
    "    # 파일, 헤더값 = req.urlretrieve(url, 저장받을 경로)\n",
    "    file1, header1 = req.urlretrieve(img_url, save_path1)\n",
    "    file2, header2 = req.urlretrieve(html_url, save_path2)\n",
    "except Exception as e:\n",
    "    print(\"Download failed.\")\n",
    "    # 어떤 에러가 발생했는지 출력\n",
    "    print(e)\n",
    "else:\n",
    "    # Header 정보 출력\n",
    "    print(header1)\n",
    "    print(header2)\n",
    "    \n",
    "    # 다운로드 파일 정보\n",
    "    print('Filename1 {}'.format(file1))\n",
    "    print('Filename2 {}'.format(file2))"
   ]
  },
  {
   "cell_type": "code",
   "execution_count": 5,
   "id": "e2d40057",
   "metadata": {},
   "outputs": [
    {
     "data": {
      "text/plain": [
       "'./urllib이미지다운로드실습폴더/deepbuild_logo.png'"
      ]
     },
     "execution_count": 5,
     "metadata": {},
     "output_type": "execute_result"
    }
   ],
   "source": [
    "file1"
   ]
  },
  {
   "cell_type": "code",
   "execution_count": 6,
   "id": "e18ab776",
   "metadata": {},
   "outputs": [
    {
     "data": {
      "text/plain": [
       "'./urllib이미지다운로드실습폴더/deepbuild_company_info.html'"
      ]
     },
     "execution_count": 6,
     "metadata": {},
     "output_type": "execute_result"
    }
   ],
   "source": [
    "file2"
   ]
  },
  {
   "cell_type": "markdown",
   "id": "57f5b1c6",
   "metadata": {},
   "source": [
    "`Connection: close` **HTTP 통신**은 한번 연결하고 값을 받으면 연결이 끊깁니다."
   ]
  }
 ],
 "metadata": {
  "kernelspec": {
   "display_name": "Python 3",
   "language": "python",
   "name": "python3"
  },
  "language_info": {
   "codemirror_mode": {
    "name": "ipython",
    "version": 3
   },
   "file_extension": ".py",
   "mimetype": "text/x-python",
   "name": "python",
   "nbconvert_exporter": "python",
   "pygments_lexer": "ipython3",
   "version": "3.8.8"
  }
 },
 "nbformat": 4,
 "nbformat_minor": 5
}
